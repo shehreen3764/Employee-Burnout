{
  "nbformat": 4,
  "nbformat_minor": 0,
  "metadata": {
    "colab": {
      "name": "HackerEarth_EmployeeBurnout.ipynb",
      "provenance": [],
      "collapsed_sections": [],
      "authorship_tag": "ABX9TyMNveZR7Apcmrm5Q5uXMJPH",
      "include_colab_link": true
    },
    "kernelspec": {
      "name": "python3",
      "display_name": "Python 3"
    }
  },
  "cells": [
    {
      "cell_type": "markdown",
      "metadata": {
        "id": "view-in-github",
        "colab_type": "text"
      },
      "source": [
        "<a href=\"https://colab.research.google.com/github/shehreen3764/Employee-Burnout/blob/main/HackerEarth_EmployeeBurnout.ipynb\" target=\"_parent\"><img src=\"https://colab.research.google.com/assets/colab-badge.svg\" alt=\"Open In Colab\"/></a>"
      ]
    },
    {
      "cell_type": "markdown",
      "metadata": {
        "id": "fD9iGUGbssU8"
      },
      "source": [
        "# Dataset Manipulation\n"
      ]
    },
    {
      "cell_type": "code",
      "metadata": {
        "id": "TQHIs5Fzs6AV"
      },
      "source": [
        "import numpy as np\n",
        "import pandas as pd"
      ],
      "execution_count": null,
      "outputs": []
    },
    {
      "cell_type": "code",
      "metadata": {
        "id": "cJRu8ULps8ga",
        "colab": {
          "base_uri": "https://localhost:8080/"
        },
        "outputId": "2bf8f856-3b01-4f45-b302-8f87106fba04"
      },
      "source": [
        "trainData = pd.read_csv('/content/dataset/train.csv')\n",
        "testData = pd.read_csv('/content/dataset/test.csv')\n",
        "\n",
        "trainData.info()"
      ],
      "execution_count": null,
      "outputs": [
        {
          "output_type": "stream",
          "text": [
            "<class 'pandas.core.frame.DataFrame'>\n",
            "RangeIndex: 22750 entries, 0 to 22749\n",
            "Data columns (total 9 columns):\n",
            " #   Column                Non-Null Count  Dtype  \n",
            "---  ------                --------------  -----  \n",
            " 0   Employee ID           22750 non-null  object \n",
            " 1   Date of Joining       22750 non-null  object \n",
            " 2   Gender                22750 non-null  object \n",
            " 3   Company Type          22750 non-null  object \n",
            " 4   WFH Setup Available   22750 non-null  object \n",
            " 5   Designation           22750 non-null  float64\n",
            " 6   Resource Allocation   21369 non-null  float64\n",
            " 7   Mental Fatigue Score  20633 non-null  float64\n",
            " 8   Burn Rate             21626 non-null  float64\n",
            "dtypes: float64(4), object(5)\n",
            "memory usage: 1.6+ MB\n"
          ],
          "name": "stdout"
        }
      ]
    },
    {
      "cell_type": "code",
      "metadata": {
        "id": "ohHc6JP8tUYZ",
        "colab": {
          "base_uri": "https://localhost:8080/"
        },
        "outputId": "e1e43251-924f-4710-f61e-1efe672e5412"
      },
      "source": [
        "#drop rows with NaN values\n",
        "trainData.dropna(inplace = True)\n",
        "\n",
        "trainData.info()"
      ],
      "execution_count": null,
      "outputs": [
        {
          "output_type": "stream",
          "text": [
            "<class 'pandas.core.frame.DataFrame'>\n",
            "Int64Index: 18590 entries, 0 to 22749\n",
            "Data columns (total 9 columns):\n",
            " #   Column                Non-Null Count  Dtype  \n",
            "---  ------                --------------  -----  \n",
            " 0   Employee ID           18590 non-null  object \n",
            " 1   Date of Joining       18590 non-null  object \n",
            " 2   Gender                18590 non-null  object \n",
            " 3   Company Type          18590 non-null  object \n",
            " 4   WFH Setup Available   18590 non-null  object \n",
            " 5   Designation           18590 non-null  float64\n",
            " 6   Resource Allocation   18590 non-null  float64\n",
            " 7   Mental Fatigue Score  18590 non-null  float64\n",
            " 8   Burn Rate             18590 non-null  float64\n",
            "dtypes: float64(4), object(5)\n",
            "memory usage: 1.4+ MB\n"
          ],
          "name": "stdout"
        }
      ]
    },
    {
      "cell_type": "code",
      "metadata": {
        "id": "1ZKTtVJrtow9",
        "colab": {
          "base_uri": "https://localhost:8080/",
          "height": 433
        },
        "outputId": "99f6b0e5-0e59-4416-b5f3-94543557f0a4"
      },
      "source": [
        "trainData"
      ],
      "execution_count": null,
      "outputs": [
        {
          "output_type": "execute_result",
          "data": {
            "text/html": [
              "<div>\n",
              "<style scoped>\n",
              "    .dataframe tbody tr th:only-of-type {\n",
              "        vertical-align: middle;\n",
              "    }\n",
              "\n",
              "    .dataframe tbody tr th {\n",
              "        vertical-align: top;\n",
              "    }\n",
              "\n",
              "    .dataframe thead th {\n",
              "        text-align: right;\n",
              "    }\n",
              "</style>\n",
              "<table border=\"1\" class=\"dataframe\">\n",
              "  <thead>\n",
              "    <tr style=\"text-align: right;\">\n",
              "      <th></th>\n",
              "      <th>Employee ID</th>\n",
              "      <th>Date of Joining</th>\n",
              "      <th>Gender</th>\n",
              "      <th>Company Type</th>\n",
              "      <th>WFH Setup Available</th>\n",
              "      <th>Designation</th>\n",
              "      <th>Resource Allocation</th>\n",
              "      <th>Mental Fatigue Score</th>\n",
              "      <th>Burn Rate</th>\n",
              "    </tr>\n",
              "  </thead>\n",
              "  <tbody>\n",
              "    <tr>\n",
              "      <th>0</th>\n",
              "      <td>fffe32003000360033003200</td>\n",
              "      <td>2008-09-30</td>\n",
              "      <td>Female</td>\n",
              "      <td>Service</td>\n",
              "      <td>No</td>\n",
              "      <td>2.0</td>\n",
              "      <td>3.0</td>\n",
              "      <td>3.8</td>\n",
              "      <td>0.16</td>\n",
              "    </tr>\n",
              "    <tr>\n",
              "      <th>1</th>\n",
              "      <td>fffe3700360033003500</td>\n",
              "      <td>2008-11-30</td>\n",
              "      <td>Male</td>\n",
              "      <td>Service</td>\n",
              "      <td>Yes</td>\n",
              "      <td>1.0</td>\n",
              "      <td>2.0</td>\n",
              "      <td>5.0</td>\n",
              "      <td>0.36</td>\n",
              "    </tr>\n",
              "    <tr>\n",
              "      <th>3</th>\n",
              "      <td>fffe32003400380032003900</td>\n",
              "      <td>2008-11-03</td>\n",
              "      <td>Male</td>\n",
              "      <td>Service</td>\n",
              "      <td>Yes</td>\n",
              "      <td>1.0</td>\n",
              "      <td>1.0</td>\n",
              "      <td>2.6</td>\n",
              "      <td>0.20</td>\n",
              "    </tr>\n",
              "    <tr>\n",
              "      <th>4</th>\n",
              "      <td>fffe31003900340031003600</td>\n",
              "      <td>2008-07-24</td>\n",
              "      <td>Female</td>\n",
              "      <td>Service</td>\n",
              "      <td>No</td>\n",
              "      <td>3.0</td>\n",
              "      <td>7.0</td>\n",
              "      <td>6.9</td>\n",
              "      <td>0.52</td>\n",
              "    </tr>\n",
              "    <tr>\n",
              "      <th>5</th>\n",
              "      <td>fffe3300350037003500</td>\n",
              "      <td>2008-11-26</td>\n",
              "      <td>Male</td>\n",
              "      <td>Product</td>\n",
              "      <td>Yes</td>\n",
              "      <td>2.0</td>\n",
              "      <td>4.0</td>\n",
              "      <td>3.6</td>\n",
              "      <td>0.29</td>\n",
              "    </tr>\n",
              "    <tr>\n",
              "      <th>...</th>\n",
              "      <td>...</td>\n",
              "      <td>...</td>\n",
              "      <td>...</td>\n",
              "      <td>...</td>\n",
              "      <td>...</td>\n",
              "      <td>...</td>\n",
              "      <td>...</td>\n",
              "      <td>...</td>\n",
              "      <td>...</td>\n",
              "    </tr>\n",
              "    <tr>\n",
              "      <th>22743</th>\n",
              "      <td>fffe3300390030003600</td>\n",
              "      <td>2008-12-15</td>\n",
              "      <td>Female</td>\n",
              "      <td>Product</td>\n",
              "      <td>Yes</td>\n",
              "      <td>1.0</td>\n",
              "      <td>3.0</td>\n",
              "      <td>6.0</td>\n",
              "      <td>0.48</td>\n",
              "    </tr>\n",
              "    <tr>\n",
              "      <th>22744</th>\n",
              "      <td>fffe32003500370033003200</td>\n",
              "      <td>2008-05-27</td>\n",
              "      <td>Male</td>\n",
              "      <td>Product</td>\n",
              "      <td>No</td>\n",
              "      <td>3.0</td>\n",
              "      <td>7.0</td>\n",
              "      <td>6.2</td>\n",
              "      <td>0.54</td>\n",
              "    </tr>\n",
              "    <tr>\n",
              "      <th>22746</th>\n",
              "      <td>fffe33003000350031003800</td>\n",
              "      <td>2008-01-19</td>\n",
              "      <td>Female</td>\n",
              "      <td>Product</td>\n",
              "      <td>Yes</td>\n",
              "      <td>3.0</td>\n",
              "      <td>6.0</td>\n",
              "      <td>6.7</td>\n",
              "      <td>0.59</td>\n",
              "    </tr>\n",
              "    <tr>\n",
              "      <th>22748</th>\n",
              "      <td>fffe33003300320036003900</td>\n",
              "      <td>2008-01-10</td>\n",
              "      <td>Female</td>\n",
              "      <td>Service</td>\n",
              "      <td>No</td>\n",
              "      <td>2.0</td>\n",
              "      <td>5.0</td>\n",
              "      <td>5.9</td>\n",
              "      <td>0.52</td>\n",
              "    </tr>\n",
              "    <tr>\n",
              "      <th>22749</th>\n",
              "      <td>fffe3400350031003800</td>\n",
              "      <td>2008-01-06</td>\n",
              "      <td>Male</td>\n",
              "      <td>Product</td>\n",
              "      <td>No</td>\n",
              "      <td>3.0</td>\n",
              "      <td>6.0</td>\n",
              "      <td>7.8</td>\n",
              "      <td>0.61</td>\n",
              "    </tr>\n",
              "  </tbody>\n",
              "</table>\n",
              "<p>18590 rows × 9 columns</p>\n",
              "</div>"
            ],
            "text/plain": [
              "                    Employee ID  ... Burn Rate\n",
              "0      fffe32003000360033003200  ...      0.16\n",
              "1          fffe3700360033003500  ...      0.36\n",
              "3      fffe32003400380032003900  ...      0.20\n",
              "4      fffe31003900340031003600  ...      0.52\n",
              "5          fffe3300350037003500  ...      0.29\n",
              "...                         ...  ...       ...\n",
              "22743      fffe3300390030003600  ...      0.48\n",
              "22744  fffe32003500370033003200  ...      0.54\n",
              "22746  fffe33003000350031003800  ...      0.59\n",
              "22748  fffe33003300320036003900  ...      0.52\n",
              "22749      fffe3400350031003800  ...      0.61\n",
              "\n",
              "[18590 rows x 9 columns]"
            ]
          },
          "metadata": {
            "tags": []
          },
          "execution_count": 74
        }
      ]
    },
    {
      "cell_type": "code",
      "metadata": {
        "id": "VYQqV0zPt8ga"
      },
      "source": [
        "def jobDuration(date0, date1):\n",
        "    date0 = pd.to_datetime(date0)\n",
        "    date1 = pd.to_datetime(date1)\n",
        "    difference = date1 - date0\n",
        "    return difference.days"
      ],
      "execution_count": null,
      "outputs": []
    },
    {
      "cell_type": "code",
      "metadata": {
        "id": "KAzPSrAhu6H-",
        "colab": {
          "base_uri": "https://localhost:8080/"
        },
        "outputId": "c8cdef19-2fc5-480d-b2c3-aecc27c56f18"
      },
      "source": [
        "testData.info()"
      ],
      "execution_count": null,
      "outputs": [
        {
          "output_type": "stream",
          "text": [
            "<class 'pandas.core.frame.DataFrame'>\n",
            "RangeIndex: 12250 entries, 0 to 12249\n",
            "Data columns (total 8 columns):\n",
            " #   Column                Non-Null Count  Dtype  \n",
            "---  ------                --------------  -----  \n",
            " 0   Employee ID           12250 non-null  object \n",
            " 1   Date of Joining       12250 non-null  object \n",
            " 2   Gender                12250 non-null  object \n",
            " 3   Company Type          12250 non-null  object \n",
            " 4   WFH Setup Available   12250 non-null  object \n",
            " 5   Designation           12250 non-null  float64\n",
            " 6   Resource Allocation   12250 non-null  float64\n",
            " 7   Mental Fatigue Score  12250 non-null  float64\n",
            "dtypes: float64(3), object(5)\n",
            "memory usage: 765.8+ KB\n"
          ],
          "name": "stdout"
        }
      ]
    },
    {
      "cell_type": "code",
      "metadata": {
        "id": "6LDnRqs_1m9B",
        "colab": {
          "base_uri": "https://localhost:8080/",
          "height": 35
        },
        "outputId": "915c6759-78cf-4241-d0a8-15e4ef2d4275"
      },
      "source": [
        "trainData['Date of Joining'].max()"
      ],
      "execution_count": null,
      "outputs": [
        {
          "output_type": "execute_result",
          "data": {
            "application/vnd.google.colaboratory.intrinsic+json": {
              "type": "string"
            },
            "text/plain": [
              "'2008-12-31'"
            ]
          },
          "metadata": {
            "tags": []
          },
          "execution_count": 77
        }
      ]
    },
    {
      "cell_type": "code",
      "metadata": {
        "id": "dI2n7GK-viZ-"
      },
      "source": [
        "dataset = [trainData, testData]\n",
        "\n",
        "# max joining date was 2008-12-31. 2009-1-1 is taken as the upper limit of date\n",
        "for data in dataset:\n",
        "  data['Gender'] = [1 if (gender == 'Male') else 0  for gender in data['Gender']]\n",
        "  data['Company Type'] = [1 if (companyType == 'Service') else 0  for companyType in data['Company Type']] \n",
        "  data['WFH Setup Available'] = [1 if (wfh == 'Yes') else 0  for wfh in data['WFH Setup Available']] \n",
        "  data['Date of Joining'] = pd.to_datetime(data['Date of Joining'])\n",
        "  data['Job Duration'] = [jobDuration(d, '2009-1-1') for d in data['Date of Joining']]"
      ],
      "execution_count": null,
      "outputs": []
    },
    {
      "cell_type": "code",
      "metadata": {
        "id": "RzqvQxUsv_kg",
        "colab": {
          "base_uri": "https://localhost:8080/",
          "height": 433
        },
        "outputId": "e7a40146-ad5a-498a-84fe-318dbaddadf7"
      },
      "source": [
        "trainData"
      ],
      "execution_count": null,
      "outputs": [
        {
          "output_type": "execute_result",
          "data": {
            "text/html": [
              "<div>\n",
              "<style scoped>\n",
              "    .dataframe tbody tr th:only-of-type {\n",
              "        vertical-align: middle;\n",
              "    }\n",
              "\n",
              "    .dataframe tbody tr th {\n",
              "        vertical-align: top;\n",
              "    }\n",
              "\n",
              "    .dataframe thead th {\n",
              "        text-align: right;\n",
              "    }\n",
              "</style>\n",
              "<table border=\"1\" class=\"dataframe\">\n",
              "  <thead>\n",
              "    <tr style=\"text-align: right;\">\n",
              "      <th></th>\n",
              "      <th>Employee ID</th>\n",
              "      <th>Date of Joining</th>\n",
              "      <th>Gender</th>\n",
              "      <th>Company Type</th>\n",
              "      <th>WFH Setup Available</th>\n",
              "      <th>Designation</th>\n",
              "      <th>Resource Allocation</th>\n",
              "      <th>Mental Fatigue Score</th>\n",
              "      <th>Burn Rate</th>\n",
              "      <th>Job Duration</th>\n",
              "    </tr>\n",
              "  </thead>\n",
              "  <tbody>\n",
              "    <tr>\n",
              "      <th>0</th>\n",
              "      <td>fffe32003000360033003200</td>\n",
              "      <td>2008-09-30</td>\n",
              "      <td>0</td>\n",
              "      <td>1</td>\n",
              "      <td>0</td>\n",
              "      <td>2.0</td>\n",
              "      <td>3.0</td>\n",
              "      <td>3.8</td>\n",
              "      <td>0.16</td>\n",
              "      <td>93</td>\n",
              "    </tr>\n",
              "    <tr>\n",
              "      <th>1</th>\n",
              "      <td>fffe3700360033003500</td>\n",
              "      <td>2008-11-30</td>\n",
              "      <td>1</td>\n",
              "      <td>1</td>\n",
              "      <td>1</td>\n",
              "      <td>1.0</td>\n",
              "      <td>2.0</td>\n",
              "      <td>5.0</td>\n",
              "      <td>0.36</td>\n",
              "      <td>32</td>\n",
              "    </tr>\n",
              "    <tr>\n",
              "      <th>3</th>\n",
              "      <td>fffe32003400380032003900</td>\n",
              "      <td>2008-11-03</td>\n",
              "      <td>1</td>\n",
              "      <td>1</td>\n",
              "      <td>1</td>\n",
              "      <td>1.0</td>\n",
              "      <td>1.0</td>\n",
              "      <td>2.6</td>\n",
              "      <td>0.20</td>\n",
              "      <td>59</td>\n",
              "    </tr>\n",
              "    <tr>\n",
              "      <th>4</th>\n",
              "      <td>fffe31003900340031003600</td>\n",
              "      <td>2008-07-24</td>\n",
              "      <td>0</td>\n",
              "      <td>1</td>\n",
              "      <td>0</td>\n",
              "      <td>3.0</td>\n",
              "      <td>7.0</td>\n",
              "      <td>6.9</td>\n",
              "      <td>0.52</td>\n",
              "      <td>161</td>\n",
              "    </tr>\n",
              "    <tr>\n",
              "      <th>5</th>\n",
              "      <td>fffe3300350037003500</td>\n",
              "      <td>2008-11-26</td>\n",
              "      <td>1</td>\n",
              "      <td>0</td>\n",
              "      <td>1</td>\n",
              "      <td>2.0</td>\n",
              "      <td>4.0</td>\n",
              "      <td>3.6</td>\n",
              "      <td>0.29</td>\n",
              "      <td>36</td>\n",
              "    </tr>\n",
              "    <tr>\n",
              "      <th>...</th>\n",
              "      <td>...</td>\n",
              "      <td>...</td>\n",
              "      <td>...</td>\n",
              "      <td>...</td>\n",
              "      <td>...</td>\n",
              "      <td>...</td>\n",
              "      <td>...</td>\n",
              "      <td>...</td>\n",
              "      <td>...</td>\n",
              "      <td>...</td>\n",
              "    </tr>\n",
              "    <tr>\n",
              "      <th>22743</th>\n",
              "      <td>fffe3300390030003600</td>\n",
              "      <td>2008-12-15</td>\n",
              "      <td>0</td>\n",
              "      <td>0</td>\n",
              "      <td>1</td>\n",
              "      <td>1.0</td>\n",
              "      <td>3.0</td>\n",
              "      <td>6.0</td>\n",
              "      <td>0.48</td>\n",
              "      <td>17</td>\n",
              "    </tr>\n",
              "    <tr>\n",
              "      <th>22744</th>\n",
              "      <td>fffe32003500370033003200</td>\n",
              "      <td>2008-05-27</td>\n",
              "      <td>1</td>\n",
              "      <td>0</td>\n",
              "      <td>0</td>\n",
              "      <td>3.0</td>\n",
              "      <td>7.0</td>\n",
              "      <td>6.2</td>\n",
              "      <td>0.54</td>\n",
              "      <td>219</td>\n",
              "    </tr>\n",
              "    <tr>\n",
              "      <th>22746</th>\n",
              "      <td>fffe33003000350031003800</td>\n",
              "      <td>2008-01-19</td>\n",
              "      <td>0</td>\n",
              "      <td>0</td>\n",
              "      <td>1</td>\n",
              "      <td>3.0</td>\n",
              "      <td>6.0</td>\n",
              "      <td>6.7</td>\n",
              "      <td>0.59</td>\n",
              "      <td>348</td>\n",
              "    </tr>\n",
              "    <tr>\n",
              "      <th>22748</th>\n",
              "      <td>fffe33003300320036003900</td>\n",
              "      <td>2008-01-10</td>\n",
              "      <td>0</td>\n",
              "      <td>1</td>\n",
              "      <td>0</td>\n",
              "      <td>2.0</td>\n",
              "      <td>5.0</td>\n",
              "      <td>5.9</td>\n",
              "      <td>0.52</td>\n",
              "      <td>357</td>\n",
              "    </tr>\n",
              "    <tr>\n",
              "      <th>22749</th>\n",
              "      <td>fffe3400350031003800</td>\n",
              "      <td>2008-01-06</td>\n",
              "      <td>1</td>\n",
              "      <td>0</td>\n",
              "      <td>0</td>\n",
              "      <td>3.0</td>\n",
              "      <td>6.0</td>\n",
              "      <td>7.8</td>\n",
              "      <td>0.61</td>\n",
              "      <td>361</td>\n",
              "    </tr>\n",
              "  </tbody>\n",
              "</table>\n",
              "<p>18590 rows × 10 columns</p>\n",
              "</div>"
            ],
            "text/plain": [
              "                    Employee ID Date of Joining  ...  Burn Rate  Job Duration\n",
              "0      fffe32003000360033003200      2008-09-30  ...       0.16            93\n",
              "1          fffe3700360033003500      2008-11-30  ...       0.36            32\n",
              "3      fffe32003400380032003900      2008-11-03  ...       0.20            59\n",
              "4      fffe31003900340031003600      2008-07-24  ...       0.52           161\n",
              "5          fffe3300350037003500      2008-11-26  ...       0.29            36\n",
              "...                         ...             ...  ...        ...           ...\n",
              "22743      fffe3300390030003600      2008-12-15  ...       0.48            17\n",
              "22744  fffe32003500370033003200      2008-05-27  ...       0.54           219\n",
              "22746  fffe33003000350031003800      2008-01-19  ...       0.59           348\n",
              "22748  fffe33003300320036003900      2008-01-10  ...       0.52           357\n",
              "22749      fffe3400350031003800      2008-01-06  ...       0.61           361\n",
              "\n",
              "[18590 rows x 10 columns]"
            ]
          },
          "metadata": {
            "tags": []
          },
          "execution_count": 79
        }
      ]
    },
    {
      "cell_type": "markdown",
      "metadata": {
        "id": "nv15S2eEyj5r"
      },
      "source": [
        "# Feature Scaling and Normalization"
      ]
    },
    {
      "cell_type": "code",
      "metadata": {
        "id": "zvfMUOeLymBb"
      },
      "source": [
        "features = ['Gender', 'Company Type', 'WFH Setup Available', 'Designation', 'Resource Allocation', \n",
        "           'Mental Fatigue Score', 'Job Duration']\n",
        "\n",
        "featureMin = trainData[features].min()\n",
        "featureMax = trainData[features].max()\n",
        "featureRange = featureMax - featureMin\n",
        "\n",
        "# Normalization \n",
        "normalizedTrainData = (trainData[features] - featureMin)/ featureRange\n",
        "X_test = (testData[features] - featureMin)/ featureRange\n",
        "\n",
        "y = trainData['Burn Rate']\n",
        "#X_train, X_valid, y_train, y_valid = train_test_split( train_df_norm, y, test_size=0.2, random_state=1234)\n"
      ],
      "execution_count": null,
      "outputs": []
    },
    {
      "cell_type": "markdown",
      "metadata": {
        "id": "OBFP15CU0Chy"
      },
      "source": [
        "# Train Model"
      ]
    },
    {
      "cell_type": "code",
      "metadata": {
        "id": "ZBWhVsm60EgJ"
      },
      "source": [
        ""
      ],
      "execution_count": null,
      "outputs": []
    }
  ]
}